{
 "cells": [
  {
   "cell_type": "markdown",
   "id": "b990404b",
   "metadata": {},
   "source": [
    "# Питонски драйвер за захранване, с един канал модел AX800P"
   ]
  },
  {
   "cell_type": "code",
   "execution_count": 1,
   "id": "b3762568",
   "metadata": {},
   "outputs": [],
   "source": [
    "from tools import print_my_ip, search_by_manufacturer, serial_ports_list\n",
    "import ax6003py"
   ]
  },
  {
   "cell_type": "code",
   "execution_count": 2,
   "id": "28151afd",
   "metadata": {},
   "outputs": [
    {
     "name": "stdout",
     "output_type": "stream",
     "text": [
      "\n",
      "\n",
      "0.   None   /dev/ttyS0\n",
      "1.   Prolific Technology Inc.   /dev/ttyUSB0\n",
      "\n",
      "Prolific Technology Inc\n",
      "/dev/ttyUSB0\n"
     ]
    }
   ],
   "source": [
    "\n",
    "baudrate = 9600\n",
    "ports = serial_ports_list()\n",
    "mnfact = ax6003py.mnfact_linux   #??? какво ще се появи в windows???\n",
    "serial_port_dev = search_by_manufacturer(ports, mnfact)\n",
    "\n",
    "\n",
    "print(mnfact)\n",
    "print(serial_port_dev)\n",
    "\n",
    "ps = ax6003py.Ax6003Py(port=serial_port_dev, baudrate=baudrate)"
   ]
  },
  {
   "cell_type": "markdown",
   "id": "46296321",
   "metadata": {},
   "source": [
    "### Оерации, който може би трябва да бъдат исвършение след стартиране "
   ]
  },
  {
   "cell_type": "code",
   "execution_count": 3,
   "id": "ab287eb8",
   "metadata": {},
   "outputs": [
    {
     "data": {
      "text/plain": [
       "1"
      ]
     },
     "execution_count": 3,
     "metadata": {},
     "output_type": "execute_result"
    }
   ],
   "source": [
    "ps.status() #Пи започване на работа на системата и трябва една команда, \n",
    "            #за да я обърне да работи в сериен режим ... прави нищо\n",
    "    \n",
    "ps.reset()        #Винаги започваме от едно и също състояние, \n",
    "ps.delay_time(1)  #Време за отговор на въведените сетинги - 1с (по подразбиране 10)"
   ]
  },
  {
   "cell_type": "markdown",
   "id": "733bc3ef",
   "metadata": {},
   "source": [
    "### Команди за сетване на ток и напрежение:"
   ]
  },
  {
   "cell_type": "code",
   "execution_count": 4,
   "id": "b255a778",
   "metadata": {},
   "outputs": [
    {
     "data": {
      "text/plain": [
       "2.0"
      ]
     },
     "execution_count": 4,
     "metadata": {},
     "output_type": "execute_result"
    }
   ],
   "source": [
    "ps.apply_voltage(2) # сетва напрежение на 2V"
   ]
  },
  {
   "cell_type": "code",
   "execution_count": 5,
   "id": "626376f7",
   "metadata": {},
   "outputs": [
    {
     "data": {
      "text/plain": [
       "0.1"
      ]
     },
     "execution_count": 5,
     "metadata": {},
     "output_type": "execute_result"
    }
   ],
   "source": [
    "ps.apply_current(0.1) # сетва ток на 0.1A"
   ]
  },
  {
   "cell_type": "code",
   "execution_count": 6,
   "id": "53bf03b7",
   "metadata": {},
   "outputs": [
    {
     "data": {
      "text/plain": [
       "[2.5, 0.15]"
      ]
     },
     "execution_count": 6,
     "metadata": {},
     "output_type": "execute_result"
    }
   ],
   "source": [
    "ps.apply(2.5, 0.15) # сетва едновременно тока и напрежението  "
   ]
  },
  {
   "cell_type": "markdown",
   "id": "fe295f39",
   "metadata": {},
   "source": [
    "Същите команди могат да се използват и без параметри. Тогава връщат моментното състояние на СЕТИНГИТЕ за ток и напрежение"
   ]
  },
  {
   "cell_type": "code",
   "execution_count": 7,
   "id": "8df79b6d",
   "metadata": {},
   "outputs": [
    {
     "name": "stdout",
     "output_type": "stream",
     "text": [
      "2.5\n"
     ]
    }
   ],
   "source": [
    "print(ps.apply_voltage())"
   ]
  },
  {
   "cell_type": "code",
   "execution_count": 8,
   "id": "a71b76f4",
   "metadata": {},
   "outputs": [
    {
     "name": "stdout",
     "output_type": "stream",
     "text": [
      "0.15\n"
     ]
    }
   ],
   "source": [
    "print(ps.apply_current())"
   ]
  },
  {
   "cell_type": "code",
   "execution_count": 9,
   "id": "c31373c1",
   "metadata": {},
   "outputs": [
    {
     "name": "stdout",
     "output_type": "stream",
     "text": [
      "[2.5, 0.15]\n"
     ]
    }
   ],
   "source": [
    "print(ps.apply())"
   ]
  },
  {
   "cell_type": "markdown",
   "id": "25fe2c95",
   "metadata": {},
   "source": [
    "### Включване и изклюване на изхода  на системата"
   ]
  },
  {
   "cell_type": "code",
   "execution_count": 10,
   "id": "b246633f",
   "metadata": {},
   "outputs": [
    {
     "data": {
      "text/plain": [
       "1"
      ]
     },
     "execution_count": 10,
     "metadata": {},
     "output_type": "execute_result"
    }
   ],
   "source": [
    "#за да извадим някакво напрежение на изхода, трябва да го включим\n",
    "ps.output(1)"
   ]
  },
  {
   "cell_type": "code",
   "execution_count": 11,
   "id": "250826fd",
   "metadata": {},
   "outputs": [
    {
     "data": {
      "text/plain": [
       "0"
      ]
     },
     "execution_count": 11,
     "metadata": {},
     "output_type": "execute_result"
    }
   ],
   "source": [
    "# ..или да го изкючим \n",
    "ps.output(0)"
   ]
  },
  {
   "cell_type": "code",
   "execution_count": 12,
   "id": "d40d69c4",
   "metadata": {},
   "outputs": [
    {
     "name": "stdout",
     "output_type": "stream",
     "text": [
      "0\n"
     ]
    }
   ],
   "source": [
    "# и тази команда без параметър дава в какво състояние е изхода\n",
    "\n",
    "print(ps.output())"
   ]
  },
  {
   "cell_type": "markdown",
   "id": "53309047",
   "metadata": {},
   "source": [
    "### Измерване на ток, напрежение, мощност ...(разбира се ако изхода е включен)"
   ]
  },
  {
   "cell_type": "code",
   "execution_count": 13,
   "id": "258e8e78",
   "metadata": {},
   "outputs": [
    {
     "name": "stdout",
     "output_type": "stream",
     "text": [
      "U = 0.0V\n",
      "U = 0.0A\n",
      "U = 0.0W\n"
     ]
    }
   ],
   "source": [
    "print(f'U = {ps.measure_voltage()}V')\n",
    "print(f'U = {ps.measure_current()}A')\n",
    "print(f'U = {ps.measure_power()}W')"
   ]
  },
  {
   "cell_type": "markdown",
   "id": "93011c8f",
   "metadata": {},
   "source": [
    "### Използване на предпазители - не е тествано ...\n",
    "Има два предпазителя, единият по ток, другия по напрежение, след като нивото на задействане се определи и предпазителя, се активира, може би може да прекъсне, ако зададеното ниво се надмине.\n"
   ]
  },
  {
   "cell_type": "code",
   "execution_count": 14,
   "id": "094d10e7",
   "metadata": {},
   "outputs": [
    {
     "data": {
      "text/plain": [
       "0"
      ]
     },
     "execution_count": 14,
     "metadata": {},
     "output_type": "execute_result"
    }
   ],
   "source": [
    "ps.current_protection_level(0.5)\n",
    "ps.current_protection_state('ON')\n",
    "ps.current_protection_triped()"
   ]
  },
  {
   "cell_type": "markdown",
   "id": "0d9cd9a7",
   "metadata": {},
   "source": [
    " Ако current_protection_triped() даде 1, захранването би трябвало да спре и работата му да се възтанови с:"
   ]
  },
  {
   "cell_type": "code",
   "execution_count": 15,
   "id": "2eee88f5",
   "metadata": {},
   "outputs": [
    {
     "data": {
      "text/plain": [
       "0"
      ]
     },
     "execution_count": 15,
     "metadata": {},
     "output_type": "execute_result"
    }
   ],
   "source": [
    "ps.current_protection_clear()"
   ]
  },
  {
   "cell_type": "markdown",
   "id": "4a04e267",
   "metadata": {},
   "source": [
    "Абсолщтно същото и за волтажа"
   ]
  },
  {
   "cell_type": "code",
   "execution_count": 16,
   "id": "5462c234",
   "metadata": {},
   "outputs": [
    {
     "data": {
      "text/plain": [
       "0"
      ]
     },
     "execution_count": 16,
     "metadata": {},
     "output_type": "execute_result"
    }
   ],
   "source": [
    "ps.voltage_protection_level(12)\n",
    "ps.voltage_protection_state('ON')\n",
    "ps.voltage_protection_triped()"
   ]
  },
  {
   "cell_type": "code",
   "execution_count": 17,
   "id": "103d1cbd",
   "metadata": {},
   "outputs": [
    {
     "data": {
      "text/plain": [
       "0"
      ]
     },
     "execution_count": 17,
     "metadata": {},
     "output_type": "execute_result"
    }
   ],
   "source": [
    "ps.voltage_protection_clear()"
   ]
  },
  {
   "cell_type": "code",
   "execution_count": null,
   "id": "8fb50ee6",
   "metadata": {},
   "outputs": [],
   "source": []
  }
 ],
 "metadata": {
  "kernelspec": {
   "display_name": "Python 3 (ipykernel)",
   "language": "python",
   "name": "python3"
  },
  "language_info": {
   "codemirror_mode": {
    "name": "ipython",
    "version": 3
   },
   "file_extension": ".py",
   "mimetype": "text/x-python",
   "name": "python",
   "nbconvert_exporter": "python",
   "pygments_lexer": "ipython3",
   "version": "3.10.5"
  }
 },
 "nbformat": 4,
 "nbformat_minor": 5
}
