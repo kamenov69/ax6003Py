{
 "cells": [
  {
   "cell_type": "markdown",
   "id": "b990404b",
   "metadata": {},
   "source": [
    "# Питонски драйвер за захранване, с един канал модел AX800P"
   ]
  },
  {
   "cell_type": "code",
   "execution_count": 1,
   "id": "b3762568",
   "metadata": {},
   "outputs": [],
   "source": [
    "from tools import print_my_ip, search_by_manufacturer, serial_ports_list\n",
    "import ax6003py"
   ]
  },
  {
   "cell_type": "code",
   "execution_count": 2,
   "id": "28151afd",
   "metadata": {},
   "outputs": [
    {
     "name": "stdout",
     "output_type": "stream",
     "text": [
      "\n",
      "\n",
      "0.   None   /dev/ttyS0\n",
      "1.   Prolific Technology Inc.   /dev/ttyUSB0\n",
      "\n",
      "Prolific Technology Inc\n",
      "/dev/ttyUSB0\n"
     ]
    }
   ],
   "source": [
    "\n",
    "baudrate = 9600\n",
    "ports = serial_ports_list()\n",
    "mnfact = ax6003py.mnfact_linux   #??? какво ще се появи в windows???\n",
    "serial_port_dev = search_by_manufacturer(ports, mnfact)\n",
    "\n",
    "\n",
    "print(mnfact)\n",
    "print(serial_port_dev)\n",
    "\n",
    "ps = ax6003py.Ax6003Py(port=serial_port_dev, baudrate=baudrate)"
   ]
  },
  {
   "cell_type": "markdown",
   "id": "46296321",
   "metadata": {},
   "source": [
    "### Оерации, който може би трябва да бъдат исвършение след стартиране "
   ]
  },
  {
   "cell_type": "code",
   "execution_count": 3,
   "id": "ab287eb8",
   "metadata": {},
   "outputs": [
    {
     "data": {
      "text/plain": [
       "1"
      ]
     },
     "execution_count": 3,
     "metadata": {},
     "output_type": "execute_result"
    }
   ],
   "source": [
    "ps.status() #Пи започване на работа на системата и трябва една команда, \n",
    "            #за да я обърне да работи в сериен режим ... прави нищо\n",
    "    \n",
    "ps.reset()        #Винаги започваме от едно и също състояние, \n",
    "ps.delay_time(1)  #Време за отговор на въведените сетинги - 1с (по подразбиране 10)"
   ]
  },
  {
   "cell_type": "markdown",
   "id": "733bc3ef",
   "metadata": {},
   "source": [
    "### Команди за сетване на ток и напрежение:"
   ]
  },
  {
   "cell_type": "code",
   "execution_count": 27,
   "id": "b255a778",
   "metadata": {},
   "outputs": [
    {
     "data": {
      "text/plain": [
       "10.0"
      ]
     },
     "execution_count": 27,
     "metadata": {},
     "output_type": "execute_result"
    }
   ],
   "source": [
    "ps.apply_voltage(10) # сетва напрежение на 2V"
   ]
  },
  {
   "cell_type": "code",
   "execution_count": 28,
   "id": "626376f7",
   "metadata": {},
   "outputs": [
    {
     "data": {
      "text/plain": [
       "0.3"
      ]
     },
     "execution_count": 28,
     "metadata": {},
     "output_type": "execute_result"
    }
   ],
   "source": [
    "ps.apply_current(0.300) # сетва ток на 0.1A"
   ]
  },
  {
   "cell_type": "code",
   "execution_count": 38,
   "id": "53bf03b7",
   "metadata": {},
   "outputs": [
    {
     "data": {
      "text/plain": [
       "[2.5, 0.15]"
      ]
     },
     "execution_count": 38,
     "metadata": {},
     "output_type": "execute_result"
    }
   ],
   "source": [
    "ps.apply(2.5, 0.15) # сетва едновременно тока и напрежението  "
   ]
  },
  {
   "cell_type": "markdown",
   "id": "fe295f39",
   "metadata": {},
   "source": [
    "Същите команди могат да се използват и без параметри. Тогава връщат моментното състояние на СЕТИНГИТЕ за ток и напрежение"
   ]
  },
  {
   "cell_type": "code",
   "execution_count": 7,
   "id": "8df79b6d",
   "metadata": {},
   "outputs": [
    {
     "name": "stdout",
     "output_type": "stream",
     "text": [
      "2.5\n"
     ]
    }
   ],
   "source": [
    "print(ps.apply_voltage())"
   ]
  },
  {
   "cell_type": "markdown",
   "id": "6599e626",
   "metadata": {},
   "source": [
    "### print(ps.apply_current())"
   ]
  },
  {
   "cell_type": "code",
   "execution_count": 29,
   "id": "c31373c1",
   "metadata": {},
   "outputs": [
    {
     "name": "stdout",
     "output_type": "stream",
     "text": [
      "[10.0, 0.3]\n"
     ]
    }
   ],
   "source": [
    "print(ps.apply())"
   ]
  },
  {
   "cell_type": "markdown",
   "id": "25fe2c95",
   "metadata": {},
   "source": [
    "### Включване и изклюване на изхода  на системата"
   ]
  },
  {
   "cell_type": "code",
   "execution_count": 14,
   "id": "b246633f",
   "metadata": {},
   "outputs": [
    {
     "data": {
      "text/plain": [
       "1"
      ]
     },
     "execution_count": 14,
     "metadata": {},
     "output_type": "execute_result"
    }
   ],
   "source": [
    "#за да извадим някакво напрежение на изхода, трябва да го включим\n",
    "ps.output(1)"
   ]
  },
  {
   "cell_type": "code",
   "execution_count": 31,
   "id": "250826fd",
   "metadata": {},
   "outputs": [
    {
     "data": {
      "text/plain": [
       "0"
      ]
     },
     "execution_count": 31,
     "metadata": {},
     "output_type": "execute_result"
    }
   ],
   "source": [
    "# ..или да го изкючим \n",
    "ps.output(0)"
   ]
  },
  {
   "cell_type": "code",
   "execution_count": 12,
   "id": "d40d69c4",
   "metadata": {},
   "outputs": [
    {
     "name": "stdout",
     "output_type": "stream",
     "text": [
      "0\n"
     ]
    }
   ],
   "source": [
    "# и тази команда без параметър дава в какво състояние е изхода\n",
    "\n",
    "print(ps.output())"
   ]
  },
  {
   "cell_type": "markdown",
   "id": "53309047",
   "metadata": {},
   "source": [
    "### Измерване на ток, напрежение, мощност ...(разбира се ако изхода е включен)"
   ]
  },
  {
   "cell_type": "code",
   "execution_count": 15,
   "id": "258e8e78",
   "metadata": {},
   "outputs": [
    {
     "name": "stdout",
     "output_type": "stream",
     "text": [
      "U = 5.001469V\n",
      "I = 0.000456A\n",
      "W = 0.002279W\n"
     ]
    }
   ],
   "source": [
    "print(f'U = {ps.measure_voltage()}V')\n",
    "print(f'I = {ps.measure_current()}A')\n",
    "print(f'W = {ps.measure_power()}W')"
   ]
  },
  {
   "cell_type": "code",
   "execution_count": null,
   "id": "fc305de3",
   "metadata": {},
   "outputs": [],
   "source": []
  },
  {
   "cell_type": "code",
   "execution_count": null,
   "id": "2bfa30f9",
   "metadata": {},
   "outputs": [],
   "source": []
  },
  {
   "cell_type": "code",
   "execution_count": null,
   "id": "be2bdac9",
   "metadata": {},
   "outputs": [],
   "source": []
  },
  {
   "cell_type": "code",
   "execution_count": 7,
   "id": "56b6cf7e",
   "metadata": {},
   "outputs": [],
   "source": [
    "import calibrations \n",
    "calib = calibrations.Calibrations.from_file_or_default(\"cal_data.json\")"
   ]
  },
  {
   "cell_type": "code",
   "execution_count": 8,
   "id": "c489e7d1",
   "metadata": {},
   "outputs": [
    {
     "name": "stdout",
     "output_type": "stream",
     "text": [
      "doble: [2, 0], equ: [1.0, 0.0], hlv: [0.5, 0.0], triple: [3, 0]\n"
     ]
    }
   ],
   "source": [
    "print(calib)"
   ]
  },
  {
   "cell_type": "code",
   "execution_count": 10,
   "id": "9bfef651",
   "metadata": {},
   "outputs": [],
   "source": [
    "calib.add_polynom('dbl',[2,0])"
   ]
  },
  {
   "cell_type": "code",
   "execution_count": null,
   "id": "74d2de7f",
   "metadata": {},
   "outputs": [],
   "source": []
  },
  {
   "cell_type": "code",
   "execution_count": 11,
   "id": "4973d5ed",
   "metadata": {},
   "outputs": [],
   "source": [
    "@calib.use('hlv')\n",
    "def voltage():\n",
    "    return ps.measure_voltage()"
   ]
  },
  {
   "cell_type": "code",
   "execution_count": 16,
   "id": "0b9fbcc1",
   "metadata": {},
   "outputs": [
    {
     "data": {
      "text/plain": [
       "2.500637"
      ]
     },
     "execution_count": 16,
     "metadata": {},
     "output_type": "execute_result"
    }
   ],
   "source": [
    "voltage()"
   ]
  },
  {
   "cell_type": "code",
   "execution_count": null,
   "id": "c6ea265a",
   "metadata": {},
   "outputs": [],
   "source": []
  },
  {
   "cell_type": "code",
   "execution_count": 18,
   "id": "dd7321a6",
   "metadata": {},
   "outputs": [
    {
     "data": {
      "text/plain": [
       "9.998848"
      ]
     },
     "execution_count": 18,
     "metadata": {},
     "output_type": "execute_result"
    }
   ],
   "source": [
    "calib('doble', ps.measure_voltage())"
   ]
  },
  {
   "cell_type": "code",
   "execution_count": null,
   "id": "fe3fd8a6",
   "metadata": {},
   "outputs": [],
   "source": []
  },
  {
   "cell_type": "markdown",
   "id": "93011c8f",
   "metadata": {},
   "source": [
    "### Използване на предпазители - не е тествано ...\n",
    "Има два предпазителя, единият по ток, другия по напрежение, след като нивото на задействане се определи и предпазителя, се активира, може би може да прекъсне, ако зададеното ниво се надмине.\n"
   ]
  },
  {
   "cell_type": "code",
   "execution_count": 14,
   "id": "094d10e7",
   "metadata": {},
   "outputs": [
    {
     "data": {
      "text/plain": [
       "0"
      ]
     },
     "execution_count": 14,
     "metadata": {},
     "output_type": "execute_result"
    }
   ],
   "source": [
    "ps.current_protection_level(0.5)\n",
    "ps.current_protection_state('ON')\n",
    "ps.current_protection_triped()"
   ]
  },
  {
   "cell_type": "markdown",
   "id": "0d9cd9a7",
   "metadata": {},
   "source": [
    " Ако current_protection_triped() даде 1, захранването би трябвало да спре и работата му да се възтанови с:"
   ]
  },
  {
   "cell_type": "code",
   "execution_count": 15,
   "id": "2eee88f5",
   "metadata": {},
   "outputs": [
    {
     "data": {
      "text/plain": [
       "0"
      ]
     },
     "execution_count": 15,
     "metadata": {},
     "output_type": "execute_result"
    }
   ],
   "source": [
    "ps.current_protection_clear()"
   ]
  },
  {
   "cell_type": "markdown",
   "id": "4a04e267",
   "metadata": {},
   "source": [
    "Абсолщтно същото и за волтажа"
   ]
  },
  {
   "cell_type": "code",
   "execution_count": 16,
   "id": "5462c234",
   "metadata": {},
   "outputs": [
    {
     "data": {
      "text/plain": [
       "0"
      ]
     },
     "execution_count": 16,
     "metadata": {},
     "output_type": "execute_result"
    }
   ],
   "source": [
    "ps.voltage_protection_level(12)\n",
    "ps.voltage_protection_state('ON')\n",
    "ps.voltage_protection_triped()"
   ]
  },
  {
   "cell_type": "code",
   "execution_count": 17,
   "id": "103d1cbd",
   "metadata": {},
   "outputs": [
    {
     "data": {
      "text/plain": [
       "0"
      ]
     },
     "execution_count": 17,
     "metadata": {},
     "output_type": "execute_result"
    }
   ],
   "source": [
    "ps.voltage_protection_clear()"
   ]
  },
  {
   "cell_type": "code",
   "execution_count": null,
   "id": "8fb50ee6",
   "metadata": {},
   "outputs": [],
   "source": []
  },
  {
   "cell_type": "code",
   "execution_count": null,
   "id": "264292cf",
   "metadata": {},
   "outputs": [],
   "source": []
  },
  {
   "cell_type": "code",
   "execution_count": 34,
   "id": "9651ad07",
   "metadata": {},
   "outputs": [],
   "source": [
    "import time\n",
    "\n",
    "U = []\n",
    "mI = []\n",
    "ps.reset()\n",
    "ps.delay_time(1)\n",
    "\n",
    "ps.apply_current(0.5)\n",
    "ps.apply_voltage(0)\n",
    "\n",
    "ps.output(1)\n",
    "\n",
    "du = 1.0 #V\n",
    "tmp_u = 0.0\n",
    "\n",
    "while True:\n",
    "    tmp_u = ps.apply_voltage(tmp_u + du)\n",
    "    while not ps.ready():\n",
    "        time.sleep(1)\n",
    "        \n",
    "    if tmp_u > 40: \n",
    "        ps.output(0)\n",
    "        break\n",
    "        \n",
    "    time.sleep(5)\n",
    "    U.append(ps.measure_voltage())\n",
    "    mI.append(ps.measure_current()*1000.0)\n",
    "        \n",
    "    \n",
    "    \n",
    "    "
   ]
  },
  {
   "cell_type": "code",
   "execution_count": 35,
   "id": "15fba21b",
   "metadata": {},
   "outputs": [
    {
     "ename": "NameError",
     "evalue": "name 'i' is not defined",
     "output_type": "error",
     "traceback": [
      "\u001b[0;31m---------------------------------------------------------------------------\u001b[0m",
      "\u001b[0;31mNameError\u001b[0m                                 Traceback (most recent call last)",
      "\u001b[0;32m<ipython-input-35-3b184248ad5a>\u001b[0m in \u001b[0;36m<module>\u001b[0;34m\u001b[0m\n\u001b[0;32m----> 1\u001b[0;31m \u001b[0mprint\u001b[0m\u001b[0;34m(\u001b[0m\u001b[0mi\u001b[0m\u001b[0;34m)\u001b[0m\u001b[0;34m\u001b[0m\u001b[0;34m\u001b[0m\u001b[0m\n\u001b[0m",
      "\u001b[0;31mNameError\u001b[0m: name 'i' is not defined"
     ]
    }
   ],
   "source": [
    "print(i)"
   ]
  },
  {
   "cell_type": "code",
   "execution_count": 36,
   "id": "53666560",
   "metadata": {},
   "outputs": [
    {
     "name": "stdout",
     "output_type": "stream",
     "text": [
      "5223.373599210015\n",
      "[ 0.00021965 -0.00057805]\n"
     ]
    }
   ],
   "source": [
    "import numpy as np\n",
    "\n",
    "\n",
    "\n",
    "\n",
    "\n",
    "u  = np.array(U, dtype=np.float64)\n",
    "i =  np.array(mI, dtype=np.float64)\n",
    "\n",
    "\n",
    "r = np.average(u)/np.average(i)*1000\n",
    "print(r)\n",
    "\n",
    "coef = np.polyfit(u,i/1000,1)\n",
    "\n",
    "print(coef)"
   ]
  },
  {
   "cell_type": "code",
   "execution_count": 37,
   "id": "96d668d6",
   "metadata": {},
   "outputs": [
    {
     "data": {
      "image/png": "[encoded data removed]",
      "text/plain": [
       "<Figure size 432x288 with 1 Axes>"
      ]
     },
     "metadata": {
      "needs_background": "light"
     },
     "output_type": "display_data"
    }
   ],
   "source": [
    "%matplotlib inline\n",
    "import matplotlib.pyplot as plt\n",
    "\n",
    "\n",
    "fig, ax = plt.subplots()\n",
    "#ax.axhline(y=0, color=\"black\", linestyle=\"--\")\n",
    "#ax.axhline(y=0.5, color=\"black\", linestyle=\":\")\n",
    "#ax.axhline(y=1.0, color=\"black\", linestyle=\"--\")\n",
    "#ax.axvline(color=\"grey\")\n",
    "#ax.axline((0, 0.5), slope=0.25, color=\"black\", linestyle=(0, (5, 5)))\n",
    "ax.plot(u, i/1000, 'r+')\n",
    "\n",
    "#ax.set(xlim=(-10, 10), xlabel=\"t\")\n",
    "#ax.legend(fontsize=14)\n",
    "plt.show()"
   ]
  },
  {
   "cell_type": "code",
   "execution_count": null,
   "id": "0552870e",
   "metadata": {},
   "outputs": [],
   "source": []
  }
 ],
 "metadata": {
  "kernelspec": {
   "display_name": "Python 3",
   "language": "python",
   "name": "python3"
  },
  "language_info": {
   "codemirror_mode": {
    "name": "ipython",
    "version": 3
   },
   "file_extension": ".py",
   "mimetype": "text/x-python",
   "name": "python",
   "nbconvert_exporter": "python",
   "pygments_lexer": "ipython3",
   "version": "3.8.8"
  }
 },
 "nbformat": 4,
 "nbformat_minor": 5
}
