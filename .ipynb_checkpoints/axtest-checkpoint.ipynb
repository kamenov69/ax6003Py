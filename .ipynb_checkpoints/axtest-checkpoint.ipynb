{
 "cells": [
  {
   "cell_type": "code",
   "execution_count": 1,
   "id": "26886800",
   "metadata": {},
   "outputs": [],
   "source": [
    "import tools\n"
   ]
  },
  {
   "cell_type": "code",
   "execution_count": 3,
   "id": "3db1b290",
   "metadata": {},
   "outputs": [
    {
     "name": "stdout",
     "output_type": "stream",
     "text": [
      "\n",
      "\n",
      "0.   None   /dev/ttyS0\n",
      "1.   Prolific Technology Inc.   /dev/ttyUSB0\n",
      "\n"
     ]
    }
   ],
   "source": [
    "ports = tools.serial_ports_list()"
   ]
  },
  {
   "cell_type": "code",
   "execution_count": 4,
   "id": "fb285660",
   "metadata": {},
   "outputs": [],
   "source": [
    "manifName = 'Prolific Technology Inc.'"
   ]
  },
  {
   "cell_type": "code",
   "execution_count": 6,
   "id": "40de1802",
   "metadata": {},
   "outputs": [
    {
     "name": "stdout",
     "output_type": "stream",
     "text": [
      "/dev/ttyUSB0\n"
     ]
    }
   ],
   "source": [
    "devAX =  tools.search_by_manufacturer(ports, manifName)\n",
    "print(devAX)"
   ]
  },
  {
   "cell_type": "code",
   "execution_count": null,
   "id": "882d9560",
   "metadata": {},
   "outputs": [],
   "source": []
  }
 ],
 "metadata": {
  "kernelspec": {
   "display_name": "Python 3 (ipykernel)",
   "language": "python",
   "name": "python3"
  },
  "language_info": {
   "codemirror_mode": {
    "name": "ipython",
    "version": 3
   },
   "file_extension": ".py",
   "mimetype": "text/x-python",
   "name": "python",
   "nbconvert_exporter": "python",
   "pygments_lexer": "ipython3",
   "version": "3.10.5"
  }
 },
 "nbformat": 4,
 "nbformat_minor": 5
}
